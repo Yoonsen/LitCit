{
 "cells": [
  {
   "cell_type": "markdown",
   "metadata": {},
   "source": [
    "# Undersøk korpus med metadata og konkordans\n",
    "\n",
    "Konkordanser gir oppslagt for nøkkelord i en kontekst, også kjent under akronymet [KWIC](https://en.wikipedia.org/wiki/Key_Word_in_Context). Kommandoene som benyttes er get_konk (eller nb.get_konk), og ligger klar i modulen nbtext.\n",
    "\n",
    "Gjør API-et aktivt ved å kjøre cellen under."
   ]
  },
  {
   "cell_type": "code",
   "execution_count": 1,
   "metadata": {},
   "outputs": [],
   "source": [
    "import nbtext as nb\n",
    "from nbtext import get_urn, get_konk, get_urnkonk, urn_from_text\n",
    "%matplotlib inline"
   ]
  },
  {
   "cell_type": "markdown",
   "metadata": {},
   "source": [
    "## Konkordanser\n",
    "\n",
    "Det minste som må spesifiseres for kommandoen *get_konk()* er et ord."
   ]
  },
  {
   "cell_type": "code",
   "execution_count": 16,
   "metadata": {},
   "outputs": [],
   "source": [
    "urns = {lang: get_urn({'year':1200, 'next':650, 'limit':6000, 'lang':lang}) for lang in ['nob','dan','lat']}"
   ]
  },
  {
   "cell_type": "code",
   "execution_count": 18,
   "metadata": {},
   "outputs": [
    {
     "data": {
      "text/plain": [
       "{'nob': 1751, 'dan': 1713, 'lat': 395}"
      ]
     },
     "execution_count": 18,
     "metadata": {},
     "output_type": "execute_result"
    }
   ],
   "source": [
    "{lang:len(urns[lang]) for lang in urns}"
   ]
  },
  {
   "cell_type": "code",
   "execution_count": 19,
   "metadata": {},
   "outputs": [
    {
     "data": {
      "text/plain": [
       "1813"
      ]
     },
     "execution_count": 19,
     "metadata": {},
     "output_type": "execute_result"
    }
   ],
   "source": [
    "urns[\n",
    "    'nob'\n",
    "][0][3]"
   ]
  },
  {
   "cell_type": "code",
   "execution_count": 20,
   "metadata": {},
   "outputs": [],
   "source": [
    "titles = {lang:[x[2] for x in urns[lang]] for lang in urns}"
   ]
  },
  {
   "cell_type": "code",
   "execution_count": 10,
   "metadata": {},
   "outputs": [],
   "source": [
    "from collections import Counter"
   ]
  },
  {
   "cell_type": "code",
   "execution_count": 29,
   "metadata": {},
   "outputs": [],
   "source": [
    "tot = dict()\n",
    "for lang in urns:\n",
    "    tot[lang] = Counter()\n",
    "    for t in titles[lang]:\n",
    "        tot[lang].update(t.split())"
   ]
  },
  {
   "cell_type": "code",
   "execution_count": 35,
   "metadata": {},
   "outputs": [
    {
     "data": {
      "text/plain": [
       "[('og', 640),\n",
       " ('i', 577),\n",
       " ('til', 435),\n",
       " ('af', 400),\n",
       " ('for', 320),\n",
       " ('den', 310),\n",
       " ('over', 175),\n",
       " ('om', 164),\n",
       " ('de', 158),\n",
       " ('paa', 156),\n",
       " ('Norges', 149),\n",
       " ('en', 138),\n",
       " ('eller', 124),\n",
       " ('ved', 121),\n",
       " ('det', 117),\n",
       " ('med', 108),\n",
       " ('som', 95),\n",
       " ('Norge', 87),\n",
       " ('norske', 83),\n",
       " ('Om', 77)]"
      ]
     },
     "execution_count": 35,
     "metadata": {},
     "output_type": "execute_result"
    }
   ],
   "source": [
    "tot['nob'].most_common(20)"
   ]
  },
  {
   "cell_type": "code",
   "execution_count": 32,
   "metadata": {},
   "outputs": [
    {
     "data": {
      "text/plain": [
       "[('og', 846),\n",
       " ('i', 476),\n",
       " ('til', 343),\n",
       " ('af', 294),\n",
       " ('den', 276),\n",
       " ('de', 208),\n",
       " ('eller', 183),\n",
       " ('oc', 183),\n",
       " ('over', 165),\n",
       " ('for', 165),\n",
       " ('som', 148),\n",
       " ('om', 129),\n",
       " ('paa', 115),\n",
       " ('det', 110),\n",
       " ('ved', 101),\n",
       " ('Norge', 96),\n",
       " ('en', 86),\n",
       " ('fra', 84),\n",
       " ('Holbergs', 84),\n",
       " ('danske', 81)]"
      ]
     },
     "execution_count": 32,
     "metadata": {},
     "output_type": "execute_result"
    }
   ],
   "source": [
    "tot['dan'].most_common(20)"
   ]
  },
  {
   "cell_type": "code",
   "execution_count": 33,
   "metadata": {},
   "outputs": [
    {
     "data": {
      "text/plain": [
       "[('in', 104),\n",
       " ('&amp;', 92),\n",
       " ('et', 74),\n",
       " ('De', 71),\n",
       " ('de', 66),\n",
       " ('ad', 47),\n",
       " ('...', 30),\n",
       " ('sive', 29),\n",
       " ('libri', 28),\n",
       " ('ac', 24),\n",
       " ('ex', 19),\n",
       " (';', 18),\n",
       " ('Daniae', 17),\n",
       " ('Ludovici', 17),\n",
       " ('Holbergii', 16),\n",
       " ('rerum', 15),\n",
       " ('historiae', 14),\n",
       " ('Dissertatio', 13),\n",
       " ('cum', 13),\n",
       " ('Johannis', 13)]"
      ]
     },
     "execution_count": 33,
     "metadata": {},
     "output_type": "execute_result"
    }
   ],
   "source": [
    "tot['lat'].most_common(20)"
   ]
  },
  {
   "cell_type": "code",
   "execution_count": 34,
   "metadata": {},
   "outputs": [
    {
     "data": {
      "text/html": [
       "<table><tr>\n",
       "                <td>\n",
       "                    <a href='http://www.nb.no/items/URN:NBN:no-nb_digibok_2010062303009' target='_'>,Spenningens landskap,1993</a>\n",
       "                    <td>grunneiere på Elstad satt igang</td>\n",
       "                    <td>arbeid</td>\n",
       "                    <td style='text-align:left'>med å grave en kanal</td>\n",
       "                    </tr>\n",
       "<tr>\n",
       "                <td>\n",
       "                    <a href='http://www.nb.no/items/URN:NBN:no-nb_digibok_2010062303009' target='_'>,Spenningens landskap,1993</a>\n",
       "                    <td>det ble forbud mot videre</td>\n",
       "                    <td>arbeid</td>\n",
       "                    <td style='text-align:left'>.</td>\n",
       "                    </tr>\n",
       "<tr>\n",
       "                <td>\n",
       "                    <a href='http://www.nb.no/items/URN:NBN:no-nb_digibok_2010062303009' target='_'>,Spenningens landskap,1993</a>\n",
       "                    <td>med det , mye ekstra</td>\n",
       "                    <td>arbeid</td>\n",
       "                    <td style='text-align:left'>senere ?</td>\n",
       "                    </tr>\n",
       "<tr>\n",
       "                <td>\n",
       "                    <a href='http://www.nb.no/items/URN:NBN:no-nb_digibok_2010062303009' target='_'>,Spenningens landskap,1993</a>\n",
       "                    <td>fylkesverket har satt igang forberedende</td>\n",
       "                    <td>arbeid</td>\n",
       "                    <td style='text-align:left'>ved Namsvatna uten at de</td>\n",
       "                    </tr>\n",
       "<tr>\n",
       "                <td>\n",
       "                    <a href='http://www.nb.no/items/URN:NBN:no-nb_digibok_2013091905131' target='_'>Grøtvedt, Paul,Moderniteten og post-modernismen,1987</a>\n",
       "                    <td>og bekrefte kunstens karakter av</td>\n",
       "                    <td>arbeid</td>\n",
       "                    <td style='text-align:left'>. » 23</td>\n",
       "                    </tr>\n",
       "<tr>\n",
       "                <td>\n",
       "                    <a href='http://www.nb.no/items/URN:NBN:no-nb_digibok_2009012000071' target='_'>Slettebø, Åshild,Sykepleie og etikk,2002</a>\n",
       "                    <td>respekt for kollegers og andres</td>\n",
       "                    <td>arbeid</td>\n",
       "                    <td style='text-align:left'>og være til støtte i</td>\n",
       "                    </tr>\n",
       "<tr>\n",
       "                <td>\n",
       "                    <a href='http://www.nb.no/items/URN:NBN:no-nb_digibok_2009012000071' target='_'>Slettebø, Åshild,Sykepleie og etikk,2002</a>\n",
       "                    <td>karakter om pasientene gjennom sitt</td>\n",
       "                    <td>arbeid</td>\n",
       "                    <td style='text-align:left'>. Det er grunnleggende for</td>\n",
       "                    </tr>\n",
       "<tr>\n",
       "                <td>\n",
       "                    <a href='http://www.nb.no/items/URN:NBN:no-nb_digibok_2009012000071' target='_'>Slettebø, Åshild,Sykepleie og etikk,2002</a>\n",
       "                    <td>helsehjelp , skal i sitt</td>\n",
       "                    <td>arbeid</td>\n",
       "                    <td style='text-align:left'>være oppmerksom på forhold som</td>\n",
       "                    </tr>\n",
       "<tr>\n",
       "                <td>\n",
       "                    <a href='http://www.nb.no/items/URN:NBN:no-nb_digibok_2009012000071' target='_'>Slettebø, Åshild,Sykepleie og etikk,2002</a>\n",
       "                    <td>følger av hans tjeneste eller</td>\n",
       "                    <td>arbeid</td>\n",
       "                    <td style='text-align:left'>for statlig eller kommunalt organ</td>\n",
       "                    </tr>\n",
       "<tr>\n",
       "                <td>\n",
       "                    <a href='http://www.nb.no/items/URN:NBN:no-nb_digibok_2014082208132' target='_'>Braadland, Birger,Fra krig til fred,1945</a>\n",
       "                    <td>fått igjen « retten til</td>\n",
       "                    <td>arbeid</td>\n",
       "                    <td style='text-align:left'>» . ( Det er</td>\n",
       "                    </tr>\n",
       "<tr>\n",
       "                <td>\n",
       "                    <a href='http://www.nb.no/items/URN:NBN:no-nb_digibok_2014082208132' target='_'>Braadland, Birger,Fra krig til fred,1945</a>\n",
       "                    <td>har ingen medfødt rett til</td>\n",
       "                    <td>arbeid</td>\n",
       "                    <td style='text-align:left'>, derimot har det plikt</td>\n",
       "                    </tr>\n",
       "</table>"
      ],
      "text/plain": [
       "<IPython.core.display.HTML object>"
      ]
     },
     "execution_count": 34,
     "metadata": {},
     "output_type": "execute_result"
    }
   ],
   "source": [
    "get_konk('arbeid')"
   ]
  },
  {
   "cell_type": "markdown",
   "metadata": {},
   "source": [
    "Kommandoen *get_konk()* tar parametre for å begrense søket - noen er satt opp med defaultverdier. Parametrene er en måte spesifisere et korpus på, men se nedenfor for andre måter å gjøre akkurat det på."
   ]
  },
  {
   "cell_type": "code",
   "execution_count": null,
   "metadata": {},
   "outputs": [],
   "source": [
    "get_konk('arbeid', {'size':10, 'corpus':'bok', 'before':8, 'after':8, 'author':'hamsun%'})"
   ]
  },
  {
   "cell_type": "markdown",
   "metadata": {},
   "source": [
    "### Samme konk mot aviser  (kan ta litt tid)"
   ]
  },
  {
   "cell_type": "markdown",
   "metadata": {},
   "source": [
    "Bøker og aviser deler litt på egenskaper. Foruten årstall vil for eksempel 'title' gjøre begrensing på boktitler for bøker, og avisnavn for aviser. Årstall begrenser utgivelsesår."
   ]
  },
  {
   "cell_type": "code",
   "execution_count": null,
   "metadata": {},
   "outputs": [],
   "source": [
    "get_konk('arbeid', {'size':5, 'title':'aftenposten','corpus':'avis', 'yearfrom':1950, 'yearto':1955})"
   ]
  },
  {
   "cell_type": "markdown",
   "metadata": {},
   "source": [
    "## Bygg et korpus av bøker\n",
    "\n",
    "Får å bygge et korpus av bøker (aviser er i kjømda) brukes kommandoen *get_urn()* med nesten de samme parametrene som for *get_konk()*.\n",
    "\n",
    "Man kan også finne URN-er i bokhylla, eller lage en liste med URN-er i en tekstfil og bruke kommandoen *urn_from_text()*. Se nedenfor."
   ]
  },
  {
   "cell_type": "markdown",
   "metadata": {},
   "source": [
    "#### get_urn()\n",
    "\n",
    "Kommandoen *get_urn()* gir et tilfeldig utvalg bøker innenfor spesifikasjonene.\n",
    "Aktiver cellen under et par ganger for å se effekten."
   ]
  },
  {
   "cell_type": "code",
   "execution_count": null,
   "metadata": {},
   "outputs": [],
   "source": [
    "nb.get_urn()"
   ]
  },
  {
   "cell_type": "markdown",
   "metadata": {},
   "source": [
    "### Med kriterier\n",
    "\n",
    "Vanligvis vil vi begrense korpuset til et helt spesifikt sett av bøker. Kriteriene er de vanlige som forfatter, tittel og år, i tillegg kommer kjønn (gender), tema (subject) og Dewey (ddk).\n",
    "\n",
    "Her settes dataene opp på formen\n",
    "\n",
    "    navn = definisjon\n",
    "    navn\n",
    "\n",
    "Første linje definerer navnet, andre viser innholdet. Husk å endre *navn* når cellene kopieres!"
   ]
  },
  {
   "cell_type": "code",
   "execution_count": null,
   "metadata": {},
   "outputs": [],
   "source": [
    "krig = nb.get_urn({'gender':'f', 'subject':'krig', 'ddk':'9%', 'year':1950, 'next':50, 'limit':30})\n",
    "krig"
   ]
  },
  {
   "cell_type": "code",
   "execution_count": null,
   "metadata": {},
   "outputs": [],
   "source": [
    "finnmark = nb.get_urn({'gender':'%', 'subject':'finnmark', 'lang':'nob', 'year':1950, 'next':50,'limit':5})\n",
    "finnmark"
   ]
  },
  {
   "cell_type": "code",
   "execution_count": null,
   "metadata": {},
   "outputs": [],
   "source": [
    "trønder = nb.get_urn({'gender':'f', 'subject':'trondheim', 'ddk':'9%', 'year':1950, 'next':50,'limit':30})\n",
    "trønder"
   ]
  },
  {
   "cell_type": "markdown",
   "metadata": {},
   "source": [
    "## Konkordanser med URNer\n",
    "\n",
    "Kommandoen er *get_urnkonk()* som bruker URNer i stedet for metadata."
   ]
  },
  {
   "cell_type": "code",
   "execution_count": null,
   "metadata": {},
   "outputs": [],
   "source": [
    "get_urnkonk('soldater', {'urns':krig, 'before':8, 'after':8, 'size':14}, html=True)"
   ]
  },
  {
   "cell_type": "markdown",
   "metadata": {},
   "source": [
    "## URNer fra Bokhylla\n",
    "\n",
    "Gåt til http://nb.no/search og søk etter bøker. I søkefeltet legger du til ordet 'debugon' - da kommer resultatene med URN-er. Kopier hele siden (f.eks. med ctrl-a) og lim det inn i cellen under mellom de triple hermetegnene.\n",
    "\n",
    "Etter at teksten (det blir gjerne en hel del) er limt inn og cellen er aktivert, vil URNene ligge i variabelen bokhylla_urn, som så kan brukes sammen med *get_urnkonk()*. \n",
    "\n",
    "Har du noen URNer liggende i en Word-fil eller lignende, kan det også limes inn."
   ]
  },
  {
   "cell_type": "code",
   "execution_count": null,
   "metadata": {},
   "outputs": [],
   "source": [
    "bokhylla_urn = \"\"\"  \"\"\"\n",
    "bokhylla_urn = urn_from_text(bokhylla_urn)\n",
    "bokhylla_urn"
   ]
  },
  {
   "cell_type": "code",
   "execution_count": null,
   "metadata": {},
   "outputs": [],
   "source": [
    "get_urnkonk('Ask',{\n",
    "    'urns':bokhylla_urn\n",
    "})"
   ]
  },
  {
   "cell_type": "code",
   "execution_count": null,
   "metadata": {},
   "outputs": [],
   "source": []
  }
 ],
 "metadata": {
  "hide_input": false,
  "kernelspec": {
   "display_name": "Python 3",
   "language": "python",
   "name": "python3"
  },
  "language_info": {
   "codemirror_mode": {
    "name": "ipython",
    "version": 3
   },
   "file_extension": ".py",
   "mimetype": "text/x-python",
   "name": "python",
   "nbconvert_exporter": "python",
   "pygments_lexer": "ipython3",
   "version": "3.6.5"
  }
 },
 "nbformat": 4,
 "nbformat_minor": 2
}
